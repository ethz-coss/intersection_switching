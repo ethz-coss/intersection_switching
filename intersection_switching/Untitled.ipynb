{
 "cells": [
  {
   "cell_type": "code",
   "execution_count": null,
   "id": "ce5a23bb",
   "metadata": {},
   "outputs": [],
   "source": [
    "epsilon = 1e-5\n",
    "road_dict = {}"
   ]
  },
  {
   "cell_type": "code",
   "execution_count": null,
   "id": "d5d8807f",
   "metadata": {},
   "outputs": [],
   "source": [
    "from network_parser import get_network\n",
    "import os\n",
    "import numpy as np\n",
    "import cityflow\n",
    "\n",
    "print(cityflow.__file__)\n",
    "\n",
    "config = '../scenarios/loop_intersection/rings.config'\n",
    "network, roads, flows = get_network(config)\n"
   ]
  },
  {
   "cell_type": "code",
   "execution_count": 1,
   "id": "0084c3cd",
   "metadata": {},
   "outputs": [
    {
     "name": "stdout",
     "output_type": "stream",
     "text": [
      "saving to ../runs/{config}_analytical\n"
     ]
    },
    {
     "name": "stderr",
     "output_type": "stream",
     "text": [
      "cannot open config file!\n",
      "load config failed!\n"
     ]
    },
    {
     "ename": "IndexError",
     "evalue": "map::at:  key not found",
     "output_type": "error",
     "traceback": [
      "\u001b[0;31m---------------------------------------------------------------------------\u001b[0m",
      "\u001b[0;31mIndexError\u001b[0m                                Traceback (most recent call last)",
      "File \u001b[0;32m~/Documents/value_alignment/intersection_switching/runner.py:186\u001b[0m, in \u001b[0;36m<module>\u001b[0;34m\u001b[0m\n\u001b[1;32m    183\u001b[0m args \u001b[39m=\u001b[39m parse_args()\n\u001b[1;32m    184\u001b[0m logger \u001b[39m=\u001b[39m Logger(args)\n\u001b[0;32m--> 186\u001b[0m environ \u001b[39m=\u001b[39m Environment(args)\n\u001b[1;32m    188\u001b[0m act_space \u001b[39m=\u001b[39m environ\u001b[39m.\u001b[39maction_space\n\u001b[1;32m    189\u001b[0m obs_space \u001b[39m=\u001b[39m environ\u001b[39m.\u001b[39mobservation_space\n",
      "File \u001b[0;32m~/Documents/value_alignment/intersection_switching/environ.py:62\u001b[0m, in \u001b[0;36mEnvironment.__init__\u001b[0;34m(self, args, ID)\u001b[0m\n\u001b[1;32m     59\u001b[0m \u001b[39mself\u001b[39m\u001b[39m.\u001b[39mintersections \u001b[39m=\u001b[39m {}\n\u001b[1;32m     60\u001b[0m \u001b[39mfor\u001b[39;00m intersection_id \u001b[39min\u001b[39;00m \u001b[39mself\u001b[39m\u001b[39m.\u001b[39mintersection_ids:\n\u001b[1;32m     61\u001b[0m     \u001b[39mself\u001b[39m\u001b[39m.\u001b[39mintersections[intersection_id] \u001b[39m=\u001b[39m SwitchAgent(\u001b[39mself\u001b[39m, ID\u001b[39m=\u001b[39mintersection_id,\n\u001b[0;32m---> 62\u001b[0m                                                 in_roads\u001b[39m=\u001b[39m\u001b[39mself\u001b[39;49m\u001b[39m.\u001b[39;49meng\u001b[39m.\u001b[39;49mget_intersection_in_roads(intersection_id),\n\u001b[1;32m     63\u001b[0m                                                 out_roads\u001b[39m=\u001b[39m\u001b[39mself\u001b[39m\u001b[39m.\u001b[39meng\u001b[39m.\u001b[39mget_intersection_out_roads(intersection_id),\n\u001b[1;32m     64\u001b[0m                                                 lr\u001b[39m=\u001b[39margs\u001b[39m.\u001b[39mlr, batch_size\u001b[39m=\u001b[39margs\u001b[39m.\u001b[39mbatch_size)\n\u001b[1;32m     67\u001b[0m \u001b[39mself\u001b[39m\u001b[39m.\u001b[39magents \u001b[39m=\u001b[39m \u001b[39mlist\u001b[39m(\u001b[39mself\u001b[39m\u001b[39m.\u001b[39mintersections\u001b[39m.\u001b[39mvalues())\n\u001b[1;32m     68\u001b[0m \u001b[39mself\u001b[39m\u001b[39m.\u001b[39magent_ids \u001b[39m=\u001b[39m \u001b[39mlist\u001b[39m(\u001b[39mself\u001b[39m\u001b[39m.\u001b[39mintersections\u001b[39m.\u001b[39mkeys())\n",
      "\u001b[0;31mIndexError\u001b[0m: map::at:  key not found"
     ]
    }
   ],
   "source": [
    "run runner.py --sim_config {config} --num_sim_steps 3600 --eps_start 0 --eps_end 0 --lr 0.0005 --mode vote --agents_type learning --num_episodes 1 --replay True --mfd False"
   ]
  },
  {
   "cell_type": "code",
   "execution_count": null,
   "id": "d650fda7",
   "metadata": {},
   "outputs": [],
   "source": []
  }
 ],
 "metadata": {
  "kernelspec": {
   "display_name": "Python 3.8.15 ('cityflow')",
   "language": "python",
   "name": "python3"
  },
  "language_info": {
   "codemirror_mode": {
    "name": "ipython",
    "version": 3
   },
   "file_extension": ".py",
   "mimetype": "text/x-python",
   "name": "python",
   "nbconvert_exporter": "python",
   "pygments_lexer": "ipython3",
   "version": "3.8.15 | packaged by conda-forge | (default, Nov 22 2022, 08:53:40) \n[Clang 14.0.6 ]"
  },
  "vscode": {
   "interpreter": {
    "hash": "90ecbfe484674de8f9312065642a8dc62472c6d2f9bf411a0ba0998b836e3fa4"
   }
  }
 },
 "nbformat": 4,
 "nbformat_minor": 5
}
