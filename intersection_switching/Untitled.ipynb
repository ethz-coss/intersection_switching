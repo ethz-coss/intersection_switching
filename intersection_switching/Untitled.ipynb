{
 "cells": [
  {
   "cell_type": "code",
   "execution_count": 1,
   "id": "ce5a23bb",
   "metadata": {},
   "outputs": [],
   "source": [
    "import matplotlib.pyplot as plt\n",
    "epsilon = 1e-5\n",
    "road_dict = {}\n",
    "# data = environ.mfd_detailed\n",
    "\n",
    "# data = environ.get_mfd_data()\n",
    "# output = process_mfd(data)\n",
    "# for road_id, road_data in road_dict.items():\n",
    "# #     flow = np.vstack(road_data['flow'])\n",
    "#     output[road_id] = {}\n",
    "#     density = np.vstack(road_data['density'])\n",
    "#     speed = np.vstack(road_data['speed'])\n",
    "# #     lane_speed = flow/density\n",
    "# #     road_speed = np.nansum(lane_speed*flow, axis=0)/np.nansum(flow, axis=0)\n",
    "#     # road_data['speed'] = road_speed\n",
    "# #     road_speed2 = np.nanmean(np.vstack(road_data['speed']), axis=0)\n",
    "#     output[road_id]['speed'] = np.nansum(speed*density, axis=0)/np.nansum(density, axis=0)\n",
    "#     output[road_id]['density'] = np.nanmean(density, axis=0)\n",
    "\n",
    "#     road_speed = output[road_id]['speed']\n",
    "#     # if any(road_speed>16.67):\n",
    "#     #     continue\n",
    "# #     plt.plot(road_speed-road_speed2, label=road_id)\n",
    "# #     plt.plot(road_speed, label=road_id, alpha=0.01, c='0.2')\n",
    "#     plt.scatter(range(road_speed.size), road_speed, label=road_id, alpha=0.01, c='0.2', s=0.1)\n",
    "\n",
    "# # plt.legend()\n",
    "# plt.show()"
   ]
  },
  {
   "cell_type": "code",
   "execution_count": 2,
   "id": "d5d8807f",
   "metadata": {},
   "outputs": [
    {
     "name": "stdout",
     "output_type": "stream",
     "text": [
      "/opt/miniconda3/envs/cityflow/lib/python3.8/site-packages/cityflow.cpython-38-darwin.so\n"
     ]
    }
   ],
   "source": [
    "from network_parser import get_network\n",
    "import os\n",
    "import numpy as np\n",
    "import cityflow\n",
    "\n",
    "print(cityflow.__file__)\n",
    "\n",
    "config = '../scenarios/loop_intersection/rings.config'\n",
    "network, roads, flows = get_network(config)\n"
   ]
  },
  {
   "cell_type": "code",
   "execution_count": 4,
   "id": "0084c3cd",
   "metadata": {},
   "outputs": [
    {
     "name": "stdout",
     "output_type": "stream",
     "text": [
      "saving to ../runs/loop_intersection/rings_analytical(4)\n",
      "not using a policy\n",
      "episode  0\n",
      "actions: 3\n"
     ]
    },
    {
     "ename": "KeyError",
     "evalue": "3",
     "output_type": "error",
     "traceback": [
      "\u001b[0;31m---------------------------------------------------------------------------\u001b[0m",
      "\u001b[0;31mKeyError\u001b[0m                                  Traceback (most recent call last)",
      "File \u001b[0;32m~/Desktop/phd/intersection_switching/intersection_switching/runner.py:223\u001b[0m, in \u001b[0;36m<module>\u001b[0;34m\u001b[0m\n\u001b[1;32m    220\u001b[0m \u001b[38;5;28;01mdef\u001b[39;00m \u001b[38;5;21mpolicy_mapper\u001b[39m(agent_id): \u001b[38;5;28;01mreturn\u001b[39;00m policy  \u001b[38;5;66;03m# multi-agent shared policy\u001b[39;00m\n\u001b[1;32m    222\u001b[0m detailed_log \u001b[38;5;241m=\u001b[39m args\u001b[38;5;241m.\u001b[39mmode \u001b[38;5;241m==\u001b[39m \u001b[38;5;124m'\u001b[39m\u001b[38;5;124mtest\u001b[39m\u001b[38;5;124m'\u001b[39m\n\u001b[0;32m--> 223\u001b[0m \u001b[43mrun_exp\u001b[49m\u001b[43m(\u001b[49m\u001b[43menviron\u001b[49m\u001b[43m,\u001b[49m\u001b[43m \u001b[49m\u001b[43margs\u001b[49m\u001b[43m,\u001b[49m\u001b[43m \u001b[49m\u001b[43mnum_episodes\u001b[49m\u001b[43m,\u001b[49m\u001b[43m \u001b[49m\u001b[43mnum_sim_steps\u001b[49m\u001b[43m,\u001b[49m\u001b[43m \u001b[49m\u001b[43mpolicies\u001b[49m\u001b[43m,\u001b[49m\u001b[43m \u001b[49m\u001b[43mpolicy_mapper\u001b[49m\u001b[43m,\u001b[49m\u001b[43m \u001b[49m\u001b[43mdetailed_log\u001b[49m\u001b[43m)\u001b[49m\n",
      "File \u001b[0;32m~/Desktop/phd/intersection_switching/intersection_switching/runner.py:120\u001b[0m, in \u001b[0;36mrun_exp\u001b[0;34m(environ, args, num_episodes, num_sim_steps, policies, policy_mapper, detailed_log)\u001b[0m\n\u001b[1;32m    117\u001b[0m actions \u001b[38;5;241m=\u001b[39m environ\u001b[38;5;241m.\u001b[39mactions  \u001b[38;5;66;03m# .copy()\u001b[39;00m\n\u001b[1;32m    119\u001b[0m \u001b[38;5;66;03m# Execute the actions\u001b[39;00m\n\u001b[0;32m--> 120\u001b[0m next_obs, rewards, dones, info \u001b[38;5;241m=\u001b[39m \u001b[43menviron\u001b[49m\u001b[38;5;241;43m.\u001b[39;49m\u001b[43mstep\u001b[49m\u001b[43m(\u001b[49m\u001b[43mactions\u001b[49m\u001b[43m)\u001b[49m\n\u001b[1;32m    122\u001b[0m \u001b[38;5;66;03m# if detailed_log:\u001b[39;00m\n\u001b[1;32m    123\u001b[0m \u001b[38;5;66;03m#     environ.detailed_log()\u001b[39;00m\n\u001b[1;32m    124\u001b[0m \n\u001b[0;32m   (...)\u001b[0m\n\u001b[1;32m    138\u001b[0m \u001b[38;5;66;03m#             policy_mapper(agent_id).memory.add(\u001b[39;00m\n\u001b[1;32m    139\u001b[0m \u001b[38;5;66;03m#                 state, action, reward, next_state, done)\u001b[39;00m\n\u001b[1;32m    141\u001b[0m step \u001b[38;5;241m=\u001b[39m (step\u001b[38;5;241m+\u001b[39m\u001b[38;5;241m1\u001b[39m) \u001b[38;5;241m%\u001b[39m \u001b[38;5;241m1\u001b[39m  \u001b[38;5;66;03m# environ.update_freq\u001b[39;00m\n",
      "File \u001b[0;32m~/Desktop/phd/intersection_switching/intersection_switching/environ.py:121\u001b[0m, in \u001b[0;36mEnvironment.step\u001b[0;34m(self, actions)\u001b[0m\n\u001b[1;32m    119\u001b[0m \u001b[38;5;28;01mdef\u001b[39;00m \u001b[38;5;21mstep\u001b[39m(\u001b[38;5;28mself\u001b[39m, actions):\n\u001b[1;32m    120\u001b[0m     \u001b[38;5;28;01massert\u001b[39;00m actions \u001b[38;5;129;01mis\u001b[39;00m \u001b[38;5;129;01mnot\u001b[39;00m \u001b[38;5;28;01mNone\u001b[39;00m\n\u001b[0;32m--> 121\u001b[0m     \u001b[38;5;28;43mself\u001b[39;49m\u001b[38;5;241;43m.\u001b[39;49m\u001b[43m_apply_actions\u001b[49m\u001b[43m(\u001b[49m\u001b[43mactions\u001b[49m\u001b[43m)\u001b[49m\n\u001b[1;32m    122\u001b[0m     \u001b[38;5;28mself\u001b[39m\u001b[38;5;241m.\u001b[39msub_steps()\n\u001b[1;32m    124\u001b[0m     rewards \u001b[38;5;241m=\u001b[39m \u001b[38;5;28mself\u001b[39m\u001b[38;5;241m.\u001b[39m_compute_rewards()\n",
      "File \u001b[0;32m~/Desktop/phd/intersection_switching/intersection_switching/environ.py:184\u001b[0m, in \u001b[0;36mEnvironment._apply_actions\u001b[0;34m(self, actions)\u001b[0m\n\u001b[1;32m    182\u001b[0m         \u001b[38;5;28;01mfor\u001b[39;00m veh_id \u001b[38;5;129;01min\u001b[39;00m lane_vehicles[lane_id]:\n\u001b[1;32m    183\u001b[0m             votes\u001b[38;5;241m.\u001b[39mappend(\u001b[38;5;28mself\u001b[39m\u001b[38;5;241m.\u001b[39mvehicles[veh_id]\u001b[38;5;241m.\u001b[39mget_vote())\n\u001b[0;32m--> 184\u001b[0m     \u001b[43mintersection\u001b[49m\u001b[38;5;241;43m.\u001b[39;49m\u001b[43mapply_action\u001b[49m\u001b[43m(\u001b[49m\u001b[38;5;28;43mself\u001b[39;49m\u001b[38;5;241;43m.\u001b[39;49m\u001b[43meng\u001b[49m\u001b[43m,\u001b[49m\u001b[43m \u001b[49m\u001b[43mvotes\u001b[49m\u001b[43m,\u001b[49m\n\u001b[1;32m    185\u001b[0m \u001b[43m                           \u001b[49m\u001b[38;5;28;43mself\u001b[39;49m\u001b[38;5;241;43m.\u001b[39;49m\u001b[43mlane_vehs\u001b[49m\u001b[43m,\u001b[49m\u001b[43m \u001b[49m\u001b[38;5;28;43mself\u001b[39;49m\u001b[38;5;241;43m.\u001b[39;49m\u001b[43mlanes_count\u001b[49m\u001b[43m)\u001b[49m\n\u001b[1;32m    186\u001b[0m     \u001b[38;5;66;03m# intersection.switch(self.eng, self.lane_vehs, self.lanes_count)\u001b[39;00m\n\u001b[1;32m    187\u001b[0m \u001b[38;5;28;01mpass\u001b[39;00m\n",
      "File \u001b[0;32m~/Desktop/phd/intersection_switching/intersection_switching/agents/switch_agent.py:53\u001b[0m, in \u001b[0;36mSwitchAgent.apply_action\u001b[0;34m(self, eng, votes, lane_vehs, lanes_count)\u001b[0m\n\u001b[1;32m     51\u001b[0m will_switch \u001b[38;5;241m=\u001b[39m \u001b[38;5;28mself\u001b[39m\u001b[38;5;241m.\u001b[39maggregate_votes(votes)\n\u001b[1;32m     52\u001b[0m \u001b[38;5;28;01mif\u001b[39;00m will_switch:\n\u001b[0;32m---> 53\u001b[0m     \u001b[38;5;28;43mself\u001b[39;49m\u001b[38;5;241;43m.\u001b[39;49m\u001b[43mswitch\u001b[49m\u001b[43m(\u001b[49m\u001b[43meng\u001b[49m\u001b[43m,\u001b[49m\u001b[43m \u001b[49m\u001b[43mlane_vehs\u001b[49m\u001b[43m,\u001b[49m\u001b[43m \u001b[49m\u001b[43mlanes_count\u001b[49m\u001b[43m)\u001b[49m\n\u001b[1;32m     54\u001b[0m \u001b[38;5;28;01melse\u001b[39;00m:\n\u001b[1;32m     55\u001b[0m     \u001b[38;5;28msuper\u001b[39m()\u001b[38;5;241m.\u001b[39mapply_action(eng, \u001b[38;5;28mself\u001b[39m\u001b[38;5;241m.\u001b[39mphase\u001b[38;5;241m.\u001b[39mID, lane_vehs, lanes_count)\n",
      "File \u001b[0;32m~/Desktop/phd/intersection_switching/intersection_switching/agents/switch_agent.py:48\u001b[0m, in \u001b[0;36mSwitchAgent.switch\u001b[0;34m(self, eng, lane_vehs, lanes_count)\u001b[0m\n\u001b[1;32m     46\u001b[0m action \u001b[38;5;241m=\u001b[39m \u001b[38;5;28mabs\u001b[39m(curr_phase\u001b[38;5;241m-\u001b[39m\u001b[38;5;241m2\u001b[39m)\u001b[38;5;241m+\u001b[39m\u001b[38;5;241m1\u001b[39m \u001b[38;5;66;03m# ID zero is clearing\u001b[39;00m\n\u001b[1;32m     47\u001b[0m \u001b[38;5;28mself\u001b[39m\u001b[38;5;241m.\u001b[39mupdate_arr_dep_veh_num(lane_vehs, lanes_count)\n\u001b[0;32m---> 48\u001b[0m \u001b[38;5;28;43msuper\u001b[39;49m\u001b[43m(\u001b[49m\u001b[43m)\u001b[49m\u001b[38;5;241;43m.\u001b[39;49m\u001b[43mapply_action\u001b[49m\u001b[43m(\u001b[49m\u001b[43meng\u001b[49m\u001b[43m,\u001b[49m\u001b[43m \u001b[49m\u001b[43maction\u001b[49m\u001b[43m,\u001b[49m\u001b[43m \u001b[49m\u001b[43mlane_vehs\u001b[49m\u001b[43m,\u001b[49m\u001b[43m \u001b[49m\u001b[43mlanes_count\u001b[49m\u001b[43m)\u001b[49m\n",
      "File \u001b[0;32m~/Desktop/phd/intersection_switching/intersection_switching/agents/agent.py:232\u001b[0m, in \u001b[0;36mAgent.apply_action\u001b[0;34m(self, eng, action, lane_vehs, lanes_count)\u001b[0m\n\u001b[1;32m    230\u001b[0m \u001b[38;5;28mself\u001b[39m\u001b[38;5;241m.\u001b[39mlast_act_time \u001b[38;5;241m=\u001b[39m time\n\u001b[1;32m    231\u001b[0m \u001b[38;5;28;01mif\u001b[39;00m \u001b[38;5;28mself\u001b[39m\u001b[38;5;241m.\u001b[39mphase\u001b[38;5;241m.\u001b[39mID \u001b[38;5;241m!=\u001b[39m action:\n\u001b[0;32m--> 232\u001b[0m     \u001b[38;5;28mself\u001b[39m\u001b[38;5;241m.\u001b[39mchosen_phase \u001b[38;5;241m=\u001b[39m \u001b[38;5;28;43mself\u001b[39;49m\u001b[38;5;241;43m.\u001b[39;49m\u001b[43mphases\u001b[49m\u001b[43m[\u001b[49m\u001b[43maction\u001b[49m\u001b[43m]\u001b[49m\n\u001b[1;32m    233\u001b[0m     \u001b[38;5;28mself\u001b[39m\u001b[38;5;241m.\u001b[39mupdate_wait_time(\n\u001b[1;32m    234\u001b[0m         time, \u001b[38;5;28mself\u001b[39m\u001b[38;5;241m.\u001b[39mchosen_phase, \u001b[38;5;28mself\u001b[39m\u001b[38;5;241m.\u001b[39mphase, lanes_count)\n\u001b[1;32m    235\u001b[0m     \u001b[38;5;28mself\u001b[39m\u001b[38;5;241m.\u001b[39mset_phase(eng, \u001b[38;5;28mself\u001b[39m\u001b[38;5;241m.\u001b[39mclearing_phase)\n",
      "\u001b[0;31mKeyError\u001b[0m: 3"
     ]
    }
   ],
   "source": [
    "run runner.py --sim_config {config} --num_sim_steps 3600 --eps_start 0 --lr 0.0005 --mode test --num_episodes 1 --agents_type analytical --mfd False"
   ]
  },
  {
   "cell_type": "code",
   "execution_count": 4,
   "id": "4dfc7466",
   "metadata": {},
   "outputs": [],
   "source": [
    "# for agent in environ._agents:\n",
    "#     agent = environ._agents[0]\n",
    "#     for pid, phase in agent.phases.items():\n",
    "#             print(pid, [agent.movements[move].move_type for move in phase.movements])\n",
    "#     print('\\n\\n')"
   ]
  },
  {
   "cell_type": "code",
   "execution_count": 5,
   "id": "3751f848",
   "metadata": {},
   "outputs": [
    {
     "ename": "FileNotFoundError",
     "evalue": "[Errno 2] No such file or directory: '../scenarios/NY48/1.config'",
     "output_type": "error",
     "traceback": [
      "\u001b[0;31m---------------------------------------------------------------------------\u001b[0m",
      "\u001b[0;31mFileNotFoundError\u001b[0m                         Traceback (most recent call last)",
      "\u001b[1;32m/Users/ddailisan/Documents/value_alignment/intersection_switching/Untitled.ipynb Cell 5\u001b[0m in \u001b[0;36m<cell line: 5>\u001b[0;34m()\u001b[0m\n\u001b[1;32m      <a href='vscode-notebook-cell:/Users/ddailisan/Documents/value_alignment/intersection_switching/Untitled.ipynb#W6sZmlsZQ%3D%3D?line=0'>1</a>\u001b[0m config \u001b[39m=\u001b[39m \u001b[39m'\u001b[39m\u001b[39m../scenarios/NY48/1.config\u001b[39m\u001b[39m'\u001b[39m\n\u001b[1;32m      <a href='vscode-notebook-cell:/Users/ddailisan/Documents/value_alignment/intersection_switching/Untitled.ipynb#W6sZmlsZQ%3D%3D?line=1'>2</a>\u001b[0m \u001b[39m# config = '../scenarios/hangzhou/1.config'\u001b[39;00m\n\u001b[1;32m      <a href='vscode-notebook-cell:/Users/ddailisan/Documents/value_alignment/intersection_switching/Untitled.ipynb#W6sZmlsZQ%3D%3D?line=2'>3</a>\u001b[0m \u001b[39m# config = '../scenarios/2x2/1.config'\u001b[39;00m\n\u001b[0;32m----> <a href='vscode-notebook-cell:/Users/ddailisan/Documents/value_alignment/intersection_switching/Untitled.ipynb#W6sZmlsZQ%3D%3D?line=4'>5</a>\u001b[0m network, roads, flows \u001b[39m=\u001b[39m get_network(config, h\u001b[39m=\u001b[39;49m\u001b[39m30\u001b[39;49m)\n",
      "File \u001b[0;32m~/Documents/value_alignment/intersection_switching/network_parser.py:31\u001b[0m, in \u001b[0;36mget_network\u001b[0;34m(config, h, keep_virtual)\u001b[0m\n\u001b[1;32m     29\u001b[0m roads \u001b[39m=\u001b[39m {}\n\u001b[1;32m     30\u001b[0m \u001b[39m# get the roadnet file\u001b[39;00m\n\u001b[0;32m---> 31\u001b[0m \u001b[39mwith\u001b[39;00m \u001b[39mopen\u001b[39;49m(config, \u001b[39m'\u001b[39;49m\u001b[39mr\u001b[39;49m\u001b[39m'\u001b[39;49m) \u001b[39mas\u001b[39;00m cfg_f:\n\u001b[1;32m     32\u001b[0m     config \u001b[39m=\u001b[39m json\u001b[39m.\u001b[39mload(cfg_f)\n\u001b[1;32m     33\u001b[0m     roadnet_file \u001b[39m=\u001b[39m config[\u001b[39m'\u001b[39m\u001b[39mroadnetFile\u001b[39m\u001b[39m'\u001b[39m]\n",
      "\u001b[0;31mFileNotFoundError\u001b[0m: [Errno 2] No such file or directory: '../scenarios/NY48/1.config'"
     ]
    }
   ],
   "source": [
    "config = '../scenarios/NY48/1.config'\n",
    "# config = '../scenarios/hangzhou/1.config'\n",
    "# config = '../scenarios/2x2/1.config'\n",
    "\n",
    "network, roads, flows = get_network(config, h=30)\n"
   ]
  },
  {
   "cell_type": "code",
   "execution_count": null,
   "id": "278527c3",
   "metadata": {},
   "outputs": [
    {
     "name": "stderr",
     "output_type": "stream",
     "text": [
      "/var/folders/sx/1np2x5d96rd6bmb014y_6ztr0000gr/T/ipykernel_29524/420645254.py:26: RuntimeWarning: invalid value encountered in true_divide\n",
      "  output[road_id]['speed'] = np.nansum(speed*density, axis=0)/np.nansum(density, axis=0)\n"
     ]
    }
   ],
   "source": [
    "import geopandas as gpd\n",
    "import matplotlib.pyplot as plt\n",
    "\n",
    "\n",
    "config = '../scenarios/NY48/1.config'\n",
    "h = 15\n",
    "network, roads, flows = get_network(config, h=h)\n",
    "\n",
    "# args.load = '/Users/ddailisan/Downloads/ny48_hybrid/reward_q_net.pt'\n",
    "# args.agents_type = 'analytical'\n",
    "# args.mode = 'test'\n",
    "# args.eps_start = 0\n",
    "# run_exp(1, 1800, [None], policy_mapper, detailed_log=True)\n",
    "output = process_mfd(environ.get_mfd_data())\n",
    "gdf = gpd.GeoDataFrame.from_dict(roads, orient='index')\n",
    "\n",
    "gdf['demand'] = 0\n",
    "gdf['density'] = 0\n",
    "\n",
    "for fid, flow in flows.items():\n",
    "    _roads = flow['route']\n",
    "    for rid in _roads:\n",
    "        gdf.loc[rid, 'demand'] += flow['demand']\n",
    "\n",
    "for r_id, data in output.items():\n",
    "    x = np.nan_to_num(data['density']).mean()*1000 #(veh/km)\n",
    "    gdf.loc[r_id, 'density'] = x\n",
    "    \n"
   ]
  },
  {
   "cell_type": "code",
   "execution_count": null,
   "id": "388f93a4",
   "metadata": {},
   "outputs": [],
   "source": [
    "# #../disrupt_traffic/runner.py --sim_config ../scenarios/2x2/dis1_0.config --num_sim_steps 3600 --eps_start 0 --lr 0.0005\n",
    "# # --mode test --num_episodes 1 --load ../models/2x2_hybrid/reward_q_net.pt --agents_type hybrid --path ../test_results/run_exp_2x2_hybrid/dis1_0_hybrid/ --mfd \n",
    "args.load = '/Users/ddailisan/Downloads/ny48_hybrid/reward_q_net.pt'\n",
    "# args.load = '/Users/ddailisan/Downloads/reward_q_net.pt'\n",
    "\n",
    "args.agents_type = 'hybrid'\n",
    "args.mode = 'test'\n",
    "args.eps_start = 0.01\n",
    "args.eps_end = args.eps_start\n",
    "\n",
    "try:\n",
    "    import_path = f\"agents.{args.agents_type}_agent.{args.agents_type.capitalize()}_Agent\"\n",
    "    AgentClass = import_string(import_path)\n",
    "except:\n",
    "    raise Exception(\n",
    "        f\"The specified agent type: {args.agent_type} is incorrect, choose from: analytical/learning/demand/hybrid/fixed/random\")\n",
    "if args.agents_type in ['learning', 'hybrid', 'presslight']:\n",
    "    device = torch.device(\"cuda\" if torch.cuda.is_available() else \"cpu\")\n",
    "    if args.agents_type == 'hybrid':\n",
    "        print('policy')\n",
    "        policy = Hybrid(obs_space, act_space, seed=SEED, load=args.load)\n",
    "    else:\n",
    "        if args.rl_model == 'sac':\n",
    "            policy = SAC(n_states, n_actions, seed=SEED, load=args.load)\n",
    "        else:\n",
    "            policy = DQN(obs_space, act_space, seed=SEED, load=args.load)\n",
    "policies = [policy]\n",
    "def policy_mapper(agent_id): return policy  # multi-agent shared policy\n",
    "device = torch.device(\"cuda\" if torch.cuda.is_available() else \"cpu\")\n",
    "\n",
    "n_actions = 9\n",
    "environ2 = Environment(args, n_actions=n_actions,\n",
    "                      n_states=n_states, AgentClass=AgentClass)\n",
    "run_exp(environ2, args, 1, args.num_sim_steps, policies, policy_mapper, detailed_log=True)"
   ]
  },
  {
   "cell_type": "code",
   "execution_count": null,
   "id": "273c6f6e",
   "metadata": {},
   "outputs": [],
   "source": [
    "# args.load = '/Users/ddailisan/Downloads/(2)/reward_q_net.pt'\n",
    "args.load = '/Users/ddailisan/Downloads/pretrained_4x4_homo/reward_q_net.pt'\n",
    "args.agents_type = 'hybrid'\n",
    "args.mode = 'test'\n",
    "args.eps_start = 0\n",
    "\n",
    "if args.agents_type in ['learning', 'hybrid', 'presslight']:\n",
    "    device = torch.device(\"cuda\" if torch.cuda.is_available() else \"cpu\")\n",
    "    if args.agents_type == 'hybrid':\n",
    "        print('policy')\n",
    "        policy = Hybrid(obs_space, act_space, seed=SEED, load=args.load)\n",
    "    else:\n",
    "        if args.rl_model == 'sac':\n",
    "            policy = SAC(n_states, n_actions, seed=SEED, load=args.load)\n",
    "        else:\n",
    "            policy = DQN(obs_space, act_space, seed=SEED, load=args.load)\n",
    "policies = [policy]\n",
    "def policy_mapper(agent_id): return policy  # multi-agent shared policy\n",
    "device = torch.device(\"cuda\" if torch.cuda.is_available() else \"cpu\")\n",
    "\n",
    "n_actions = 9\n",
    "environ3 = Environment(args, n_actions=n_actions,\n",
    "                      n_states=n_states, AgentClass=AgentClass)\n",
    "run_exp(environ3, args, 1, args.num_sim_steps, policies, policy_mapper, detailed_log=True)"
   ]
  },
  {
   "cell_type": "code",
   "execution_count": null,
   "id": "40d65478",
   "metadata": {
    "scrolled": true
   },
   "outputs": [],
   "source": [
    "output2 = process_mfd(environ2.get_mfd_data())\n",
    "\n",
    "gdf2 = gpd.GeoDataFrame.from_dict(roads, orient='index')\n",
    "\n",
    "gdf2['density'] = 0\n",
    "\n",
    "for r_id, data in output2.items():\n",
    "    x = np.nan_to_num(data['density']).mean()*1000 #(veh/km)\n",
    "    gdf2.loc[r_id, 'density'] = x"
   ]
  },
  {
   "cell_type": "code",
   "execution_count": null,
   "id": "3498a0e5",
   "metadata": {},
   "outputs": [],
   "source": [
    "output3 = process_mfd(environ3.get_mfd_data())\n",
    "\n",
    "gdf3 = gpd.GeoDataFrame.from_dict(roads, orient='index')\n",
    "\n",
    "gdf3['density'] = 0\n",
    "\n",
    "for r_id, data in output3.items():\n",
    "    x = np.nan_to_num(data['density']).mean()*1000 #(veh/km)\n",
    "    gdf3.loc[r_id, 'density'] = x"
   ]
  },
  {
   "cell_type": "code",
   "execution_count": null,
   "id": "56acd835",
   "metadata": {
    "scrolled": false
   },
   "outputs": [],
   "source": [
    "from mpl_toolkits.axes_grid1 import ImageGrid, AxesGrid\n",
    "import matplotlib.pyplot as plt\n",
    "# fig, axes = plt.subplots(1,2,dpi=300)\n",
    "\n",
    "plt.rc('xtick', labelsize=6)\n",
    "plt.rc('ytick', labelsize=6)\n",
    "plt.rc('font', size=7)\n",
    "plt.rc('axes', titlesize=7)\n",
    "plt.rc('legend', fontsize=6)\n",
    "plt.rc('figure', titlesize=7)\n",
    "\n",
    "\n",
    "fig = plt.figure(figsize=(6,6), dpi=600)\n",
    "grid = AxesGrid(fig, 111,\n",
    "                nrows_ncols=(1, 3),\n",
    "                axes_pad=0.05,\n",
    "                cbar_mode='single',\n",
    "                cbar_location='right',\n",
    "                cbar_pad=0.05,\n",
    "                share_all=True\n",
    "                )\n",
    "\n",
    "legend_kwds={'label': \"Average Density (veh/km)\"}\n",
    "\n",
    "vmin = 0\n",
    "vmax = max(gdf['density'].max(), gdf2['density'].max())\n",
    "\n",
    "cmap='RdYlGn_r'\n",
    "linewidth = 2\n",
    "ax = grid[0]\n",
    "gdf.plot(column='density', ax=ax, linewidth=linewidth, cmap=cmap, legend_kwds=legend_kwds, vmin=vmin, vmax=vmax)\n",
    "ax.set_axis_off()\n",
    "ax.set_title('Analytic+')\n",
    "\n",
    "ax = grid[1]\n",
    "gdf2.plot(column='density', ax=ax, linewidth=linewidth, cmap=cmap, legend_kwds=legend_kwds, vmin=vmin, vmax=vmax)\n",
    "ax.set_axis_off()\n",
    "ax.set_title('GuidedLight')\n",
    "\n",
    "ax = grid[2]\n",
    "gdf3.plot(column='density', ax=ax, linewidth=linewidth, cmap=cmap, legend_kwds=legend_kwds, vmin=vmin, vmax=vmax)\n",
    "ax.set_axis_off()\n",
    "ax.set_title('GuidedLight 4x4 Hom')\n",
    "\n",
    "\n",
    "cax = grid.cbar_axes[0]\n",
    "\n",
    "patch_col = ax.collections[0]\n",
    "# fig.colorbar(patch_col, cax=cax, shrink=0.5)\n",
    "cax.colorbar(patch_col)\n",
    "cax.set_ylabel('Density (veh/km)')\n",
    "fig.savefig('density.pdf', bbox_inches='tight')"
   ]
  },
  {
   "cell_type": "code",
   "execution_count": null,
   "id": "57b54cce",
   "metadata": {},
   "outputs": [],
   "source": [
    "ax.collections"
   ]
  },
  {
   "cell_type": "code",
   "execution_count": null,
   "id": "3af1f6e7",
   "metadata": {},
   "outputs": [],
   "source": []
  },
  {
   "cell_type": "code",
   "execution_count": null,
   "id": "83dff869",
   "metadata": {},
   "outputs": [],
   "source": [
    "np.allclose(gdf['density'].values, gdf2['density'].values)"
   ]
  },
  {
   "cell_type": "code",
   "execution_count": null,
   "id": "d95ea34c",
   "metadata": {},
   "outputs": [],
   "source": [
    "gdf2['density']"
   ]
  },
  {
   "cell_type": "code",
   "execution_count": null,
   "id": "1b6a5984",
   "metadata": {},
   "outputs": [],
   "source": [
    "policies"
   ]
  },
  {
   "cell_type": "code",
   "execution_count": null,
   "id": "916c1ee9",
   "metadata": {},
   "outputs": [],
   "source": [
    "# config = '../scenarios/hangzhou/1.config'\n",
    "# network, roads, flows = get_network(config, h=30)\n",
    "\n",
    "# gdf = gpd.GeoDataFrame.from_dict(roads, orient='index')\n",
    "\n",
    "# gdf['demand'] = 0\n",
    "# for fid, flow in flows.items():\n",
    "#     _roads = flow['route']\n",
    "#     for rid in _roads:\n",
    "#         gdf.loc[rid, 'demand'] += flow['demand']\n",
    "            \n",
    "# fig, ax = plt.subplots(dpi=300)\n",
    "\n",
    "# legend_kwds={'label': \"Veh/hr\",\n",
    "# #                         'orientation': \"horizontal\",\n",
    "# #              'vmin': 0\n",
    "            \n",
    "#             }\n",
    "# gdf.plot(column='demand', ax=ax, linewidth=1.5, legend=True, legend_kwds=legend_kwds, vmin=0)\n",
    "# ax.set_axis_off()\n",
    "# ax.set_title(config)"
   ]
  },
  {
   "cell_type": "code",
   "execution_count": null,
   "id": "10302d64",
   "metadata": {},
   "outputs": [],
   "source": [
    "# config = '../scenarios/4x4mount/1.config'\n",
    "# network, roads, flows = get_network(config, h=5)\n",
    "\n",
    "# gdf = gpd.GeoDataFrame.from_dict(roads, orient='index')\n",
    "\n",
    "# gdf['demand'] = 0\n",
    "# for fid, flow in flows.items():\n",
    "#     _roads = flow['route']\n",
    "#     for rid in _roads:\n",
    "#         gdf.loc[rid, 'demand'] += flow['demand']\n",
    "            \n",
    "# fig, ax = plt.subplots(dpi=300)\n",
    "\n",
    "# legend_kwds={'label': \"Veh\",\n",
    "# #                         'orientation': \"horizontal\",\n",
    "# #              'vmin': 0\n",
    "            \n",
    "#             }\n",
    "# gdf.plot(column='demand', ax=ax, linewidth=1.5, legend=True, legend_kwds=legend_kwds, vmin=0)\n",
    "# ax.set_axis_off()\n",
    "# ax.set_title(config)"
   ]
  },
  {
   "cell_type": "code",
   "execution_count": null,
   "id": "5213a34f",
   "metadata": {},
   "outputs": [],
   "source": [
    "config = '../scenarios/ny48/1.config'\n",
    "# config = '../scenarios/2x2/1.config'\n",
    "\n",
    "network, roads, flows = get_network(config, h=5)\n",
    "\n",
    "sum([i['demand'] for i in flows.values()])"
   ]
  },
  {
   "cell_type": "code",
   "execution_count": null,
   "id": "03d4e746",
   "metadata": {},
   "outputs": [],
   "source": [
    "np.nanmean(output['road_0_11_0']['density'])"
   ]
  },
  {
   "cell_type": "code",
   "execution_count": null,
   "id": "1d7c55e6",
   "metadata": {},
   "outputs": [],
   "source": []
  },
  {
   "cell_type": "code",
   "execution_count": null,
   "id": "9da6067d",
   "metadata": {},
   "outputs": [],
   "source": []
  }
 ],
 "metadata": {
  "kernelspec": {
   "display_name": "cityflow",
   "language": "python",
   "name": "cityflow"
  },
  "language_info": {
   "codemirror_mode": {
    "name": "ipython",
    "version": 3
   },
   "file_extension": ".py",
   "mimetype": "text/x-python",
   "name": "python",
   "nbconvert_exporter": "python",
   "pygments_lexer": "ipython3",
   "version": "3.8.15"
  },
  "vscode": {
   "interpreter": {
    "hash": "90ecbfe484674de8f9312065642a8dc62472c6d2f9bf411a0ba0998b836e3fa4"
   }
  }
 },
 "nbformat": 4,
 "nbformat_minor": 5
}
