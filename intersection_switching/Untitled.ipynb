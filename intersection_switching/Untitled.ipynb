{
 "cells": [
  {
   "cell_type": "code",
   "execution_count": 1,
   "id": "ce5a23bb",
   "metadata": {},
   "outputs": [],
   "source": [
    "epsilon = 1e-5\n",
    "road_dict = {}"
   ]
  },
  {
   "cell_type": "code",
   "execution_count": 2,
   "id": "d5d8807f",
   "metadata": {},
   "outputs": [
    {
     "name": "stdout",
     "output_type": "stream",
     "text": [
      "/opt/miniconda3/envs/cityflow/lib/python3.8/site-packages/cityflow.cpython-38-darwin.so\n"
     ]
    }
   ],
   "source": [
    "from network_parser import get_network\n",
    "import os\n",
    "import numpy as np\n",
    "import cityflow\n",
    "\n",
    "print(cityflow.__file__)\n",
    "\n",
    "config = '../scenarios/loop_intersection/rings.config'\n",
    "network, roads, flows = get_network(config)\n"
   ]
  },
  {
   "cell_type": "code",
   "execution_count": 3,
   "id": "0084c3cd",
   "metadata": {},
   "outputs": [
    {
     "name": "stdout",
     "output_type": "stream",
     "text": [
      "saving to ../runs/loop_intersection/rings_learning_speed\n",
      "2 (12,)\n",
      "actions: 2\n",
      "episode  0\n",
      "Rew: 10.9711\tVehicles: 17\tSpeed (m/s): 10.97\tStops (total): 58.00\tWaitTimes (sec): 3.59\tDelay (sec/km): 1230.71\n"
     ]
    },
    {
     "name": "stderr",
     "output_type": "stream",
     "text": [
      "/opt/miniconda3/envs/cityflow/lib/python3.8/site-packages/numpy/core/fromnumeric.py:3474: RuntimeWarning: Mean of empty slice.\n",
      "  return _methods._mean(a, axis=axis, dtype=dtype,\n",
      "/opt/miniconda3/envs/cityflow/lib/python3.8/site-packages/numpy/core/_methods.py:189: RuntimeWarning: invalid value encountered in double_scalars\n",
      "  ret = ret.dtype.type(ret / rcount)\n",
      "/Users/mkorecki/Desktop/phd/intersection_switching/intersection_switching/logger.py:82: RuntimeWarning: invalid value encountered in true_divide\n",
      "  output[road_id]['speed'] = np.nansum(speed*density, axis=0)/np.nansum(density, axis=0)\n"
     ]
    }
   ],
   "source": [
    "run runner.py --sim_config {config} --num_sim_steps 3600 --eps_start 0 --eps_end 0 --lr 0.0005 --mode vote --agents_type learning --num_episodes 1 --replay True --mfd False"
   ]
  },
  {
   "cell_type": "code",
   "execution_count": null,
   "id": "d650fda7",
   "metadata": {},
   "outputs": [],
   "source": []
  }
 ],
 "metadata": {
  "kernelspec": {
   "display_name": "cityflow",
   "language": "python",
   "name": "cityflow"
  },
  "language_info": {
   "codemirror_mode": {
    "name": "ipython",
    "version": 3
   },
   "file_extension": ".py",
   "mimetype": "text/x-python",
   "name": "python",
   "nbconvert_exporter": "python",
   "pygments_lexer": "ipython3",
   "version": "3.8.15"
  },
  "vscode": {
   "interpreter": {
    "hash": "90ecbfe484674de8f9312065642a8dc62472c6d2f9bf411a0ba0998b836e3fa4"
   }
  }
 },
 "nbformat": 4,
 "nbformat_minor": 5
}
