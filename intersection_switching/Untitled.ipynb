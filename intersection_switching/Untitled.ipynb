{
 "cells": [
  {
   "cell_type": "code",
   "execution_count": 1,
   "id": "ce5a23bb",
   "metadata": {},
   "outputs": [],
   "source": [
    "epsilon = 1e-5\n",
    "road_dict = {}"
   ]
  },
  {
   "cell_type": "code",
   "execution_count": 2,
   "id": "d5d8807f",
   "metadata": {},
   "outputs": [
    {
     "name": "stdout",
     "output_type": "stream",
     "text": [
      "/opt/miniconda3/envs/cityflow/lib/python3.8/site-packages/cityflow.cpython-38-darwin.so\n"
     ]
    }
   ],
   "source": [
    "from network_parser import get_network\n",
    "import os\n",
    "import numpy as np\n",
    "import cityflow\n",
    "\n",
    "print(cityflow.__file__)\n",
    "\n",
    "config = '../scenarios/loop_intersection/rings.config'\n",
    "network, roads, flows = get_network(config)\n"
   ]
  },
  {
   "cell_type": "code",
   "execution_count": 3,
   "id": "0084c3cd",
   "metadata": {},
   "outputs": [
    {
     "name": "stdout",
     "output_type": "stream",
     "text": [
      "saving to ../runs/loop_intersection/rings_learning(23)\n",
      "2 (8,)\n",
      "actions: 2\n",
      "episode  0\n",
      "Rew: 8.2504\tVehicles: 17\tMeanDelay (sec/km): 1813.76\n",
      "episode  1\n",
      "Rew: 8.4782\tVehicles: 17\tMeanDelay (sec/km): 1766.62\n",
      "episode  2\n",
      "Rew: 8.3251\tVehicles: 17\tMeanDelay (sec/km): 1796.52\n",
      "episode  3\n",
      "Rew: 8.9065\tVehicles: 17\tMeanDelay (sec/km): 1670.00\n",
      "episode  4\n",
      "Rew: 8.7603\tVehicles: 17\tMeanDelay (sec/km): 1700.65\n",
      "episode  5\n",
      "Rew: 8.5201\tVehicles: 17\tMeanDelay (sec/km): 1755.22\n",
      "episode  6\n",
      "Rew: 8.5812\tVehicles: 17\tMeanDelay (sec/km): 1741.45\n",
      "episode  7\n",
      "Rew: 9.0790\tVehicles: 17\tMeanDelay (sec/km): 1634.06\n",
      "episode  8\n",
      "Rew: 8.8560\tVehicles: 17\tMeanDelay (sec/km): 1681.43\n",
      "episode  9\n",
      "Rew: 8.9733\tVehicles: 17\tMeanDelay (sec/km): 1657.63\n",
      "episode  10\n",
      "Rew: 8.9271\tVehicles: 17\tMeanDelay (sec/km): 1664.96\n",
      "episode  11\n",
      "Rew: 8.6586\tVehicles: 17\tMeanDelay (sec/km): 1726.86\n",
      "episode  12\n",
      "Rew: 8.9326\tVehicles: 17\tMeanDelay (sec/km): 1665.98\n",
      "episode  13\n",
      "Rew: 9.1068\tVehicles: 17\tMeanDelay (sec/km): 1626.31\n",
      "episode  14\n",
      "Rew: 9.1047\tVehicles: 17\tMeanDelay (sec/km): 1626.07\n",
      "episode  15\n",
      "Rew: 9.1308\tVehicles: 17\tMeanDelay (sec/km): 1622.43\n",
      "episode  16\n",
      "Rew: 9.0976\tVehicles: 17\tMeanDelay (sec/km): 1626.58\n",
      "episode  17\n",
      "Rew: 8.9830\tVehicles: 17\tMeanDelay (sec/km): 1651.36\n",
      "episode  18\n",
      "Rew: 9.1708\tVehicles: 17\tMeanDelay (sec/km): 1611.50\n",
      "episode  19\n",
      "Rew: 9.2889\tVehicles: 17\tMeanDelay (sec/km): 1589.89\n",
      "episode  20\n",
      "Rew: 9.4701\tVehicles: 17\tMeanDelay (sec/km): 1540.29\n",
      "episode  21\n",
      "Rew: 9.5170\tVehicles: 17\tMeanDelay (sec/km): 1533.94\n",
      "episode  22\n",
      "Rew: 9.4523\tVehicles: 17\tMeanDelay (sec/km): 1543.38\n",
      "episode  23\n",
      "Rew: 9.3736\tVehicles: 17\tMeanDelay (sec/km): 1558.84\n",
      "episode  24\n",
      "Rew: 9.4349\tVehicles: 17\tMeanDelay (sec/km): 1550.17\n",
      "episode  25\n",
      "Rew: 9.5039\tVehicles: 17\tMeanDelay (sec/km): 1533.26\n",
      "episode  26\n",
      "Rew: 9.3796\tVehicles: 17\tMeanDelay (sec/km): 1557.32\n",
      "episode  27\n",
      "Rew: 9.3545\tVehicles: 17\tMeanDelay (sec/km): 1566.67\n",
      "episode  28\n",
      "Rew: 9.5258\tVehicles: 17\tMeanDelay (sec/km): 1522.48\n",
      "episode  29\n",
      "Rew: 9.5376\tVehicles: 17\tMeanDelay (sec/km): 1521.48\n",
      "episode  30\n",
      "Rew: 9.5206\tVehicles: 17\tMeanDelay (sec/km): 1526.93\n",
      "episode  31\n",
      "Rew: 9.5113\tVehicles: 17\tMeanDelay (sec/km): 1524.30\n",
      "episode  32\n",
      "Rew: 9.5327\tVehicles: 17\tMeanDelay (sec/km): 1523.66\n",
      "episode  33\n",
      "Rew: 9.5558\tVehicles: 17\tMeanDelay (sec/km): 1519.83\n",
      "episode  34\n",
      "Rew: 9.4678\tVehicles: 17\tMeanDelay (sec/km): 1530.33\n",
      "episode  35\n",
      "Rew: 9.5398\tVehicles: 17\tMeanDelay (sec/km): 1522.14\n",
      "episode  36\n",
      "Rew: 9.5393\tVehicles: 17\tMeanDelay (sec/km): 1522.57\n",
      "episode  37\n",
      "Rew: 9.6554\tVehicles: 17\tMeanDelay (sec/km): 1489.38\n",
      "episode  38\n",
      "Rew: 9.7000\tVehicles: 17\tMeanDelay (sec/km): 1468.14\n",
      "episode  39\n",
      "Rew: 9.7172\tVehicles: 17\tMeanDelay (sec/km): 1473.47\n"
     ]
    }
   ],
   "source": [
    "run runner.py --sim_config {config} --num_sim_steps 3600 --eps_start 1 --lr 0.0005 --mode train --agents_type learning --num_episodes 40 --replay True --mfd False"
   ]
  },
  {
   "cell_type": "code",
   "execution_count": null,
   "id": "d650fda7",
   "metadata": {},
   "outputs": [],
   "source": []
  }
 ],
 "metadata": {
  "kernelspec": {
   "display_name": "cityflow",
   "language": "python",
   "name": "cityflow"
  },
  "language_info": {
   "codemirror_mode": {
    "name": "ipython",
    "version": 3
   },
   "file_extension": ".py",
   "mimetype": "text/x-python",
   "name": "python",
   "nbconvert_exporter": "python",
   "pygments_lexer": "ipython3",
   "version": "3.8.15"
  },
  "vscode": {
   "interpreter": {
    "hash": "90ecbfe484674de8f9312065642a8dc62472c6d2f9bf411a0ba0998b836e3fa4"
   }
  }
 },
 "nbformat": 4,
 "nbformat_minor": 5
}
