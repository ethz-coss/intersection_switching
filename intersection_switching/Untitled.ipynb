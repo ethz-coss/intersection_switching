{
 "cells": [
  {
   "cell_type": "code",
   "execution_count": null,
   "id": "ce5a23bb",
   "metadata": {},
   "outputs": [],
   "source": [
    "epsilon = 1e-5\n",
    "road_dict = {}"
   ]
  },
  {
   "cell_type": "code",
   "execution_count": null,
   "id": "d5d8807f",
   "metadata": {},
   "outputs": [],
   "source": [
    "from network_parser import get_network\n",
    "import os\n",
    "import numpy as np\n",
    "import cityflow\n",
    "\n",
    "print(cityflow.__file__)\n",
    "\n",
    "config = '../scenarios/loop_intersection/rings.config'\n",
    "network, roads, flows = get_network(config)\n"
   ]
  },
  {
   "cell_type": "code",
   "execution_count": null,
   "id": "0084c3cd",
   "metadata": {},
   "outputs": [],
   "source": [
    "run runner.py --sim_config {config} --num_sim_steps 3600 --eps_start 0 --lr 0.0005 --mode test --num_episodes 1 --replay True --mfd False"
   ]
  }
 ],
 "metadata": {
  "kernelspec": {
   "display_name": "Python 3.8.15 ('cityflow')",
   "language": "python",
   "name": "python3"
  },
  "language_info": {
   "codemirror_mode": {
    "name": "ipython",
    "version": 3
   },
   "file_extension": ".py",
   "mimetype": "text/x-python",
   "name": "python",
   "nbconvert_exporter": "python",
   "pygments_lexer": "ipython3",
   "version": "3.8.15"
  },
  "vscode": {
   "interpreter": {
    "hash": "90ecbfe484674de8f9312065642a8dc62472c6d2f9bf411a0ba0998b836e3fa4"
   }
  }
 },
 "nbformat": 4,
 "nbformat_minor": 5
}
